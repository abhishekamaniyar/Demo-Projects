{
  "nbformat": 4,
  "nbformat_minor": 0,
  "metadata": {
    "colab": {
      "provenance": [],
      "toc_visible": true,
      "authorship_tag": "ABX9TyPSuck42ZAXezQtroo/eY8n",
      "include_colab_link": true
    },
    "kernelspec": {
      "name": "python3",
      "display_name": "Python 3"
    },
    "language_info": {
      "name": "python"
    }
  },
  "cells": [
    {
      "cell_type": "markdown",
      "metadata": {
        "id": "view-in-github",
        "colab_type": "text"
      },
      "source": [
        "<a href=\"https://colab.research.google.com/github/abhishekamaniyar/Demo-Projects/blob/main/My_Trial.ipynb\" target=\"_parent\"><img src=\"https://colab.research.google.com/assets/colab-badge.svg\" alt=\"Open In Colab\"/></a>"
      ]
    },
    {
      "cell_type": "markdown",
      "source": [
        "## Ingest"
      ],
      "metadata": {
        "id": "Ik1oRQoeXR0j"
      }
    },
    {
      "cell_type": "markdown",
      "source": [
        "### Getting data from Repo 1"
      ],
      "metadata": {
        "id": "Y0Sgvy3WYBQm"
      }
    },
    {
      "cell_type": "markdown",
      "source": [
        "### Getting data from Repo 2"
      ],
      "metadata": {
        "id": "4iEC0KVCYIS_"
      }
    },
    {
      "cell_type": "markdown",
      "source": [
        "## EDA"
      ],
      "metadata": {
        "id": "UUbPW4elXX2U"
      }
    },
    {
      "cell_type": "markdown",
      "source": [
        "## Modelling"
      ],
      "metadata": {
        "id": "BD6Tj3vYXpmC"
      }
    },
    {
      "cell_type": "markdown",
      "source": [
        "## Conclusion"
      ],
      "metadata": {
        "id": "mC_u7PHsX3Im"
      }
    }
  ]
}